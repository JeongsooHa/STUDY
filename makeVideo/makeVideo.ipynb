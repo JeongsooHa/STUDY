{
 "cells": [
  {
   "cell_type": "code",
   "execution_count": 1,
   "metadata": {},
   "outputs": [],
   "source": [
    "#!/usr/local/bin/python3\n",
    "\n",
    "import cv2\n",
    "import os"
   ]
  },
  {
   "cell_type": "code",
   "execution_count": 2,
   "metadata": {},
   "outputs": [],
   "source": [
    "image_folder = '/Users/jeongsooha/20bn-datasets/20bn-jester-v1/2/'\n",
    "output = 'output.mp4'"
   ]
  },
  {
   "cell_type": "code",
   "execution_count": 3,
   "metadata": {},
   "outputs": [],
   "source": [
    "#Can't sort\n",
    "#images = [img for img in os.listdir(image_folder) if img.endswith(\".jpg\")]\n",
    "images = []\n",
    "for f in os.listdir(image_folder):\n",
    "    if f.endswith(\".jpg\"):\n",
    "        images.append(f)\n",
    "images.sort()\n"
   ]
  },
  {
   "cell_type": "code",
   "execution_count": 4,
   "metadata": {},
   "outputs": [
    {
     "data": {
      "text/plain": [
       "['00001.jpg',\n",
       " '00002.jpg',\n",
       " '00003.jpg',\n",
       " '00004.jpg',\n",
       " '00005.jpg',\n",
       " '00006.jpg',\n",
       " '00007.jpg',\n",
       " '00008.jpg',\n",
       " '00009.jpg',\n",
       " '00010.jpg',\n",
       " '00011.jpg',\n",
       " '00012.jpg',\n",
       " '00013.jpg',\n",
       " '00014.jpg',\n",
       " '00015.jpg',\n",
       " '00016.jpg',\n",
       " '00017.jpg',\n",
       " '00018.jpg',\n",
       " '00019.jpg',\n",
       " '00020.jpg',\n",
       " '00021.jpg',\n",
       " '00022.jpg',\n",
       " '00023.jpg',\n",
       " '00024.jpg',\n",
       " '00025.jpg',\n",
       " '00026.jpg',\n",
       " '00027.jpg',\n",
       " '00028.jpg',\n",
       " '00029.jpg',\n",
       " '00030.jpg',\n",
       " '00031.jpg',\n",
       " '00032.jpg',\n",
       " '00033.jpg',\n",
       " '00034.jpg',\n",
       " '00035.jpg',\n",
       " '00036.jpg',\n",
       " '00037.jpg']"
      ]
     },
     "execution_count": 4,
     "metadata": {},
     "output_type": "execute_result"
    }
   ],
   "source": [
    "images"
   ]
  },
  {
   "cell_type": "code",
   "execution_count": 5,
   "metadata": {},
   "outputs": [],
   "source": [
    "image_path = os.path.join(image_folder, images[0])\n",
    "frame = cv2.imread(image_path)\n",
    "cv2.imshow('video',frame)\n",
    "height, width, channels = frame.shape\n"
   ]
  },
  {
   "cell_type": "code",
   "execution_count": 6,
   "metadata": {},
   "outputs": [],
   "source": [
    "# Define the codec and create VideoWriter object\n",
    "fourcc = cv2.VideoWriter_fourcc(*'mp4v') # Be sure to use lower case\n",
    "out = cv2.VideoWriter(output, fourcc, 20.0, (width, height))\n"
   ]
  },
  {
   "cell_type": "code",
   "execution_count": 9,
   "metadata": {},
   "outputs": [],
   "source": [
    "for image in images:\n",
    "\n",
    "    image_path = os.path.join(image_folder, image)\n",
    "    frame = cv2.imread(image_path)\n",
    "    out.write(frame) # Write out frame to video\n",
    "    \n",
    "    cv2.imshow('video',frame)\n",
    "    if (cv2.waitKey(1) & 0xFF) == ord('q'): # Hit `q` to exit\n",
    "        break"
   ]
  },
  {
   "cell_type": "code",
   "execution_count": 10,
   "metadata": {},
   "outputs": [
    {
     "name": "stdout",
     "output_type": "stream",
     "text": [
      "The output video is output.mp4\n"
     ]
    }
   ],
   "source": [
    "# Release everything if job is finished\n",
    "out.release()\n",
    "cv2.destroyAllWindows()\n",
    "\n",
    "print(\"The output video is {}\".format(output))"
   ]
  },
  {
   "cell_type": "code",
   "execution_count": null,
   "metadata": {},
   "outputs": [],
   "source": []
  }
 ],
 "metadata": {
  "kernelspec": {
   "display_name": "Python 3",
   "language": "python",
   "name": "python3"
  },
  "language_info": {
   "codemirror_mode": {
    "name": "ipython",
    "version": 3
   },
   "file_extension": ".py",
   "mimetype": "text/x-python",
   "name": "python",
   "nbconvert_exporter": "python",
   "pygments_lexer": "ipython3",
   "version": "3.6.2"
  }
 },
 "nbformat": 4,
 "nbformat_minor": 2
}
